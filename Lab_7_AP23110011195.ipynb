{
  "nbformat": 4,
  "nbformat_minor": 0,
  "metadata": {
    "colab": {
      "provenance": []
    },
    "kernelspec": {
      "name": "python3",
      "display_name": "Python 3"
    },
    "language_info": {
      "name": "python"
    }
  },
  "cells": [
    {
      "cell_type": "code",
      "source": [
        "import numpy as np\n",
        "import pandas as pd"
      ],
      "metadata": {
        "id": "AacGcXI4GdnU"
      },
      "execution_count": 42,
      "outputs": []
    },
    {
      "cell_type": "code",
      "source": [
        "data = pd.read_csv(\"multiclass.csv\")\n",
        "print(data.head())\n"
      ],
      "metadata": {
        "colab": {
          "base_uri": "https://localhost:8080/"
        },
        "id": "D27HHsQZGj_g",
        "outputId": "2be1f970-b045-4dea-bcdd-759bce5e1742"
      },
      "execution_count": 43,
      "outputs": [
        {
          "output_type": "stream",
          "name": "stdout",
          "text": [
            "   Region  Fresh  Milk  Grocery  Frozen  Detergents_Paper  Delicassen  class\n",
            "0       3  12669  9656     7561     214              2674        1338      2\n",
            "1       3   7057  9810     9568    1762              3293        1776      2\n",
            "2       3   6353  8808     7684    2405              3516        7844      2\n",
            "3       3  13265  1196     4221    6404               507        1788      1\n",
            "4       3  22615  5410     7198    3915              1777        5185      1\n"
          ]
        }
      ]
    },
    {
      "cell_type": "code",
      "source": [
        "print(data.info())"
      ],
      "metadata": {
        "colab": {
          "base_uri": "https://localhost:8080/"
        },
        "id": "DbcYfGz7G6wt",
        "outputId": "273a2944-e3a5-469b-d85e-7dbb8c5b8377"
      },
      "execution_count": 44,
      "outputs": [
        {
          "output_type": "stream",
          "name": "stdout",
          "text": [
            "<class 'pandas.core.frame.DataFrame'>\n",
            "RangeIndex: 440 entries, 0 to 439\n",
            "Data columns (total 8 columns):\n",
            " #   Column            Non-Null Count  Dtype\n",
            "---  ------            --------------  -----\n",
            " 0   Region            440 non-null    int64\n",
            " 1   Fresh             440 non-null    int64\n",
            " 2   Milk              440 non-null    int64\n",
            " 3   Grocery           440 non-null    int64\n",
            " 4   Frozen            440 non-null    int64\n",
            " 5   Detergents_Paper  440 non-null    int64\n",
            " 6   Delicassen        440 non-null    int64\n",
            " 7   class             440 non-null    int64\n",
            "dtypes: int64(8)\n",
            "memory usage: 27.6 KB\n",
            "None\n"
          ]
        }
      ]
    },
    {
      "cell_type": "code",
      "source": [
        "print(data.isnull().sum())"
      ],
      "metadata": {
        "colab": {
          "base_uri": "https://localhost:8080/"
        },
        "id": "UxE9TTIJHACj",
        "outputId": "3cdaf107-7aed-413f-c385-5c94c011933c"
      },
      "execution_count": 45,
      "outputs": [
        {
          "output_type": "stream",
          "name": "stdout",
          "text": [
            "Region              0\n",
            "Fresh               0\n",
            "Milk                0\n",
            "Grocery             0\n",
            "Frozen              0\n",
            "Detergents_Paper    0\n",
            "Delicassen          0\n",
            "class               0\n",
            "dtype: int64\n"
          ]
        }
      ]
    },
    {
      "cell_type": "code",
      "source": [
        "print(data.shape)\n",
        "data = data.dropna()\n",
        "print(data.shape)"
      ],
      "metadata": {
        "colab": {
          "base_uri": "https://localhost:8080/"
        },
        "id": "9ueEsJ4JHyiL",
        "outputId": "caa13a8d-83f6-4028-b394-193e2bb07889"
      },
      "execution_count": 46,
      "outputs": [
        {
          "output_type": "stream",
          "name": "stdout",
          "text": [
            "(440, 8)\n",
            "(440, 8)\n"
          ]
        }
      ]
    },
    {
      "cell_type": "code",
      "source": [
        "X = data.drop('class', axis=1)\n",
        "y = data['class']\n",
        "print(X.shape)\n",
        "print(y.shape)"
      ],
      "metadata": {
        "colab": {
          "base_uri": "https://localhost:8080/"
        },
        "id": "hy6HD_GrH9S9",
        "outputId": "889664d5-59cb-4f62-a160-115a6cf0dd54"
      },
      "execution_count": 47,
      "outputs": [
        {
          "output_type": "stream",
          "name": "stdout",
          "text": [
            "(440, 7)\n",
            "(440,)\n"
          ]
        }
      ]
    },
    {
      "cell_type": "code",
      "source": [
        "from sklearn.model_selection import train_test_split\n",
        "\n",
        "X_train, X_test, y_train, y_test = train_test_split(\n",
        "    X, y, test_size=0.2, random_state=42\n",
        ")\n"
      ],
      "metadata": {
        "id": "mL8lsgacJqsz"
      },
      "execution_count": 48,
      "outputs": []
    },
    {
      "cell_type": "code",
      "source": [
        "print(X_train.shape)\n",
        "print(X_test.shape)\n",
        "print(y_train.shape)\n",
        "print(y_test.shape)"
      ],
      "metadata": {
        "colab": {
          "base_uri": "https://localhost:8080/"
        },
        "id": "qJKRrWGoKO8a",
        "outputId": "3a287afe-04fc-4928-e37a-a177c4c76939"
      },
      "execution_count": 49,
      "outputs": [
        {
          "output_type": "stream",
          "name": "stdout",
          "text": [
            "(352, 7)\n",
            "(88, 7)\n",
            "(352,)\n",
            "(88,)\n"
          ]
        }
      ]
    },
    {
      "cell_type": "code",
      "source": [
        "from sklearn.preprocessing import StandardScaler\n",
        "\n",
        "scaler = StandardScaler()\n",
        "X_train = scaler.fit_transform(X_train)\n",
        "X_test = scaler.transform(X_test)\n",
        "\n",
        "m = X_train.shape[0]"
      ],
      "metadata": {
        "id": "Tgqty3zWKU1N"
      },
      "execution_count": 50,
      "outputs": []
    },
    {
      "cell_type": "code",
      "source": [
        "def dist(p,q):\n",
        "    return np.sqrt(np.sum((p-q)**2))\n",
        "\n",
        "def knn(X,y,xt,k=5):\n",
        "    dlist = []\n",
        "    for i in range(len(X)):\n",
        "        d = dist(X[i], xt)\n",
        "        dlist.append((d, y[i]))\n",
        "    dlist = sorted(dlist, key=lambda x: x[0])\n",
        "    k_nearest = np.array(dlist[:k])\n",
        "    labels = k_nearest[:, 1]\n",
        "    labels, cnts = np.unique(labels, return_counts=True)\n",
        "    pred = labels[cnts.argmax()]\n",
        "    return int(pred)"
      ],
      "metadata": {
        "id": "68mRNcQXK2j0"
      },
      "execution_count": 51,
      "outputs": []
    },
    {
      "cell_type": "code",
      "source": [
        "y_train = y_train.to_numpy()\n",
        "y_test  = y_test.to_numpy()"
      ],
      "metadata": {
        "id": "Wjv1leH5NTt3"
      },
      "execution_count": 52,
      "outputs": []
    },
    {
      "cell_type": "code",
      "source": [
        "\n",
        "preds = []\n",
        "for xt in X_test:\n",
        "    preds.append(knn(X_train, y_train, xt))\n"
      ],
      "metadata": {
        "id": "Ni-9nctVLUBu"
      },
      "execution_count": 53,
      "outputs": []
    },
    {
      "cell_type": "markdown",
      "source": [],
      "metadata": {
        "id": "xhzcyqL9OXsl"
      }
    },
    {
      "cell_type": "code",
      "source": [
        "print(preds)"
      ],
      "metadata": {
        "colab": {
          "base_uri": "https://localhost:8080/"
        },
        "id": "yEXk7ZrWNg01",
        "outputId": "f19c4a66-80ee-416e-f1a0-f2997407584b"
      },
      "execution_count": 54,
      "outputs": [
        {
          "output_type": "stream",
          "name": "stdout",
          "text": [
            "[2, 3, 2, 1, 3, 3, 3, 2, 3, 3, 3, 1, 2, 3, 2, 3, 2, 2, 1, 3, 2, 2, 2, 3, 1, 1, 1, 1, 3, 3, 2, 2, 1, 2, 1, 3, 3, 2, 2, 3, 3, 3, 3, 3, 2, 1, 2, 2, 2, 1, 2, 3, 3, 1, 2, 3, 2, 3, 2, 2, 1, 3, 2, 2, 2, 2, 2, 2, 3, 1, 2, 3, 3, 3, 3, 2, 2, 1, 2, 3, 3, 3, 1, 2, 3, 2, 3, 3]\n"
          ]
        }
      ]
    },
    {
      "cell_type": "code",
      "source": [
        "print(y_test)"
      ],
      "metadata": {
        "colab": {
          "base_uri": "https://localhost:8080/"
        },
        "id": "huCE2QOrNjLW",
        "outputId": "7f5cf056-b8ff-4883-f2a5-013985fbb5e9"
      },
      "execution_count": 55,
      "outputs": [
        {
          "output_type": "stream",
          "name": "stdout",
          "text": [
            "[2 3 2 2 3 3 3 2 3 3 3 1 2 3 3 3 1 2 1 3 2 2 2 3 1 1 1 1 1 3 2 2 1 2 1 3 3\n",
            " 2 2 3 2 3 3 3 2 2 2 2 2 1 2 3 3 1 2 3 2 3 2 2 1 1 1 2 2 2 2 2 3 1 2 3 3 3\n",
            " 3 2 2 2 2 3 3 3 2 2 2 2 3 3]\n"
          ]
        }
      ]
    },
    {
      "cell_type": "code",
      "source": [
        "accuracy = np.mean(preds == y_test)\n",
        "print(\"Scratch KNN Accuracy:\", accuracy)"
      ],
      "metadata": {
        "colab": {
          "base_uri": "https://localhost:8080/"
        },
        "id": "32owvjrdNqTj",
        "outputId": "ea8887c8-ce43-4057-dc36-d6e8acf72f16"
      },
      "execution_count": 56,
      "outputs": [
        {
          "output_type": "stream",
          "name": "stdout",
          "text": [
            "Scratch KNN Accuracy: 0.875\n"
          ]
        }
      ]
    },
    {
      "cell_type": "code",
      "source": [
        "from sklearn.neighbors import KNeighborsClassifier\n",
        "from sklearn.metrics import accuracy_score\n",
        "\n",
        "knn_sklearn = KNeighborsClassifier(n_neighbors=5)\n",
        "knn_sklearn.fit(X_train, y_train)\n",
        "y_pred_sklearn = knn_sklearn.predict(X_test)\n",
        "print(\"Sklearn KNN Accuracy:\", accuracy_score(y_test, y_pred_sklearn))"
      ],
      "metadata": {
        "colab": {
          "base_uri": "https://localhost:8080/"
        },
        "id": "SD0nbmnDOYa9",
        "outputId": "89d6b997-fd90-4715-c514-37d4a7923f36"
      },
      "execution_count": 58,
      "outputs": [
        {
          "output_type": "stream",
          "name": "stdout",
          "text": [
            "Sklearn KNN Accuracy: 0.875\n"
          ]
        }
      ]
    }
  ]
}