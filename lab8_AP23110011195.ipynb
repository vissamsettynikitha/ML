{
  "nbformat": 4,
  "nbformat_minor": 0,
  "metadata": {
    "colab": {
      "provenance": []
    },
    "kernelspec": {
      "name": "python3",
      "display_name": "Python 3"
    },
    "language_info": {
      "name": "python"
    }
  },
  "cells": [
    {
      "cell_type": "markdown",
      "source": [
        "# Data Viz 1"
      ],
      "metadata": {
        "id": "IYD-NoUVg7_j"
      }
    },
    {
      "cell_type": "markdown",
      "source": [
        "---"
      ],
      "metadata": {
        "id": "iF1Yy_-fA-Ud"
      }
    },
    {
      "cell_type": "markdown",
      "source": [
        "## Content\n",
        "\n",
        "- Intro to Matplotlib & Seaborn\n",
        "- Tencent Use Case\n",
        "- Anatomy of Matplotlib\n",
        "- Components of a Matplotlib plot\n",
        "- Univariate Data Visualization\n",
        "  - Categorical\n",
        "    - Bar chart\n",
        "    - Countplot\n",
        "    - Pie chart\n",
        "  - Continous\n",
        "    - Histogram\n",
        "    - KDE plot\n",
        "    - Box and Whiskers plot"
      ],
      "metadata": {
        "id": "3cLwcf8JA-dt"
      }
    },
    {
      "cell_type": "markdown",
      "source": [
        "---"
      ],
      "metadata": {
        "id": "28OAZ3VhBDce"
      }
    },
    {
      "cell_type": "markdown",
      "source": [
        "### Plots Presentation:\n",
        "\n",
        "https://docs.google.com/presentation/d/1DkLTjTe6YmGbDHtr4v9Jso553DlCuP3cfSnwvUN1mgE/edit?usp=sharing"
      ],
      "metadata": {
        "id": "TZrYGOWMPI9y"
      }
    },
    {
      "cell_type": "markdown",
      "metadata": {
        "id": "b8dd9db1"
      },
      "source": [
        "### Importing Matplotlib & Seaborn\n",
        "\n",
        "In case of `matplotlib`,\n",
        "- We don't need to import the entire library but just its sub-module `pyplot`.\n",
        "- We'll use the alias name `plt`.\n",
        "\n",
        "#### What is `pyplot`?  \n",
        "- `pyplot` is a **sub-module for visualization** in `matplotlib`.\n",
        "- Think of it as a **high-level API** which **makes plotting an easy task**.\n",
        "- Data Scientists stick to using `pyplot` only unless they want to create **something totally new.\n",
        "\n",
        "For `seaborn`,\n",
        "- We will be importing the whole seaborn library as alias `sns`.\n",
        "\n",
        "#### What is seaborn?\n",
        "\n",
        "Seaborn is another visualization library which uses Matplotlib in the backend for plotting.\n",
        "\n",
        "#### What is the major difference then between both matplotlib and seaborn?\n",
        "\n",
        "- `Seaborn` is built on the top of `Pandas` and `Matplotlib`.\n",
        "- Seaborn uses **fascinating themes** and **reduces number of code lines** by doing a lot of work in the backend.\n",
        "- While matplotlib is used to **plot basic plots and add more functionlaity** on top of that\n",
        "\n",
        "As we proceed through the lecture, we will see the difference between both the libraries."
      ]
    },
    {
      "cell_type": "code",
      "execution_count": 1,
      "metadata": {
        "id": "aa22378f"
      },
      "outputs": [],
      "source": [
        "import matplotlib.pyplot as plt\n",
        "import seaborn as sns"
      ]
    },
    {
      "cell_type": "markdown",
      "source": [
        "---"
      ],
      "metadata": {
        "id": "YlnTGgakDr5n"
      }
    },
    {
      "cell_type": "markdown",
      "metadata": {
        "id": "52744909"
      },
      "source": [
        "Before we dive into learning these libraries, lets answer some general questions.\n",
        "\n",
        "#### Why do even we need to visualize data?\n",
        "\n",
        "- **Exploratory**  - I can’t see certain patterns just by crunching numbers (avg, rates, %ages).\n",
        "- **Explanatory** -  I have the numbers crunches and insights ready, but I’d like a visual art for storytelling."
      ]
    },
    {
      "cell_type": "markdown",
      "source": [
        "#### What do we already know?\n",
        "\n",
        "**Data**\n",
        "- Rows: Samples, Data-points, Records\n",
        "- Columns: Features, Variables\n",
        "\n",
        "At the fundamental level, we have two types of data:\n",
        "- Numerical/Continous\n",
        "- Categorical\n",
        "\n",
        "Categorical can be further divided into:\n",
        "  - **Ordinal:** Categorical data with an order (e.g. low, medium, high)\n",
        "  - **Non-ordinal/nominal:** Categorical data without any order (e.g. Male/Female)\n"
      ],
      "metadata": {
        "id": "gQrkfGiiXoXm"
      }
    },
    {
      "cell_type": "markdown",
      "source": [
        "---"
      ],
      "metadata": {
        "id": "nGV1VJbZDs_3"
      }
    },
    {
      "cell_type": "markdown",
      "source": [
        "### Video Games Analysis\n",
        "\n",
        "You are a Data Scientist at \"Tencent Games\".\n",
        "\n",
        "You need to analyze what kind of games the company should create in order to perform better in the market.\n"
      ],
      "metadata": {
        "id": "lb3IHOGBubdj"
      }
    },
    {
      "cell_type": "code",
      "source": [
        "!wget https://d2beiqkhq929f0.cloudfront.net/public_assets/assets/000/021/299/original/final_vg1_-_final_vg_%281%29.csv?1670840166 -O final_vg.csv"
      ],
      "metadata": {
        "colab": {
          "base_uri": "https://localhost:8080/"
        },
        "id": "ltqN16y-FKSq",
        "outputId": "647aada4-9c5d-4ac8-d435-c0e38b987ebc"
      },
      "execution_count": 2,
      "outputs": [
        {
          "output_type": "stream",
          "name": "stdout",
          "text": [
            "--2025-09-26 04:00:48--  https://d2beiqkhq929f0.cloudfront.net/public_assets/assets/000/021/299/original/final_vg1_-_final_vg_%281%29.csv?1670840166\n",
            "Resolving d2beiqkhq929f0.cloudfront.net (d2beiqkhq929f0.cloudfront.net)... 108.157.172.10, 108.157.172.176, 108.157.172.183, ...\n",
            "Connecting to d2beiqkhq929f0.cloudfront.net (d2beiqkhq929f0.cloudfront.net)|108.157.172.10|:443... connected.\n",
            "HTTP request sent, awaiting response... 200 OK\n",
            "Length: 2041483 (1.9M) [text/plain]\n",
            "Saving to: ‘final_vg.csv’\n",
            "\n",
            "final_vg.csv        100%[===================>]   1.95M  1.56MB/s    in 1.2s    \n",
            "\n",
            "2025-09-26 04:00:50 (1.56 MB/s) - ‘final_vg.csv’ saved [2041483/2041483]\n",
            "\n"
          ]
        }
      ]
    },
    {
      "cell_type": "code",
      "source": [
        "import pandas as pd\n",
        "import numpy as np"
      ],
      "metadata": {
        "id": "5TElJxagya8f"
      },
      "execution_count": 21,
      "outputs": []
    },
    {
      "cell_type": "code",
      "source": [
        "data = pd.read_csv('Telco_Cusomer_Churn.csv')\n",
        "data.head()"
      ],
      "metadata": {
        "colab": {
          "base_uri": "https://localhost:8080/",
          "height": 342
        },
        "id": "sTp1pk3hwLvc",
        "outputId": "2caff749-0711-472e-8cf2-0f34792eb763"
      },
      "execution_count": 22,
      "outputs": [
        {
          "output_type": "execute_result",
          "data": {
            "text/plain": [
              "   customerID  gender  SeniorCitizen Partner Dependents  tenure PhoneService  \\\n",
              "0  7590-VHVEG  Female              0     Yes         No       1           No   \n",
              "1  5575-GNVDE    Male              0      No         No      34          Yes   \n",
              "2  3668-QPYBK    Male              0      No         No       2          Yes   \n",
              "3  7795-CFOCW    Male              0      No         No      45           No   \n",
              "4  9237-HQITU  Female              0      No         No       2          Yes   \n",
              "\n",
              "      MultipleLines InternetService OnlineSecurity  ... DeviceProtection  \\\n",
              "0  No phone service             DSL             No  ...               No   \n",
              "1                No             DSL            Yes  ...              Yes   \n",
              "2                No             DSL            Yes  ...               No   \n",
              "3  No phone service             DSL            Yes  ...              Yes   \n",
              "4                No     Fiber optic             No  ...               No   \n",
              "\n",
              "  TechSupport StreamingTV StreamingMovies        Contract PaperlessBilling  \\\n",
              "0          No          No              No  Month-to-month              Yes   \n",
              "1          No          No              No        One year               No   \n",
              "2          No          No              No  Month-to-month              Yes   \n",
              "3         Yes          No              No        One year               No   \n",
              "4          No          No              No  Month-to-month              Yes   \n",
              "\n",
              "               PaymentMethod MonthlyCharges  TotalCharges Churn  \n",
              "0           Electronic check          29.85         29.85    No  \n",
              "1               Mailed check          56.95        1889.5    No  \n",
              "2               Mailed check          53.85        108.15   Yes  \n",
              "3  Bank transfer (automatic)          42.30       1840.75    No  \n",
              "4           Electronic check          70.70        151.65   Yes  \n",
              "\n",
              "[5 rows x 21 columns]"
            ],
            "text/html": [
              "\n",
              "  <div id=\"df-53d7b184-2308-4a03-89b9-686356178ab4\" class=\"colab-df-container\">\n",
              "    <div>\n",
              "<style scoped>\n",
              "    .dataframe tbody tr th:only-of-type {\n",
              "        vertical-align: middle;\n",
              "    }\n",
              "\n",
              "    .dataframe tbody tr th {\n",
              "        vertical-align: top;\n",
              "    }\n",
              "\n",
              "    .dataframe thead th {\n",
              "        text-align: right;\n",
              "    }\n",
              "</style>\n",
              "<table border=\"1\" class=\"dataframe\">\n",
              "  <thead>\n",
              "    <tr style=\"text-align: right;\">\n",
              "      <th></th>\n",
              "      <th>customerID</th>\n",
              "      <th>gender</th>\n",
              "      <th>SeniorCitizen</th>\n",
              "      <th>Partner</th>\n",
              "      <th>Dependents</th>\n",
              "      <th>tenure</th>\n",
              "      <th>PhoneService</th>\n",
              "      <th>MultipleLines</th>\n",
              "      <th>InternetService</th>\n",
              "      <th>OnlineSecurity</th>\n",
              "      <th>...</th>\n",
              "      <th>DeviceProtection</th>\n",
              "      <th>TechSupport</th>\n",
              "      <th>StreamingTV</th>\n",
              "      <th>StreamingMovies</th>\n",
              "      <th>Contract</th>\n",
              "      <th>PaperlessBilling</th>\n",
              "      <th>PaymentMethod</th>\n",
              "      <th>MonthlyCharges</th>\n",
              "      <th>TotalCharges</th>\n",
              "      <th>Churn</th>\n",
              "    </tr>\n",
              "  </thead>\n",
              "  <tbody>\n",
              "    <tr>\n",
              "      <th>0</th>\n",
              "      <td>7590-VHVEG</td>\n",
              "      <td>Female</td>\n",
              "      <td>0</td>\n",
              "      <td>Yes</td>\n",
              "      <td>No</td>\n",
              "      <td>1</td>\n",
              "      <td>No</td>\n",
              "      <td>No phone service</td>\n",
              "      <td>DSL</td>\n",
              "      <td>No</td>\n",
              "      <td>...</td>\n",
              "      <td>No</td>\n",
              "      <td>No</td>\n",
              "      <td>No</td>\n",
              "      <td>No</td>\n",
              "      <td>Month-to-month</td>\n",
              "      <td>Yes</td>\n",
              "      <td>Electronic check</td>\n",
              "      <td>29.85</td>\n",
              "      <td>29.85</td>\n",
              "      <td>No</td>\n",
              "    </tr>\n",
              "    <tr>\n",
              "      <th>1</th>\n",
              "      <td>5575-GNVDE</td>\n",
              "      <td>Male</td>\n",
              "      <td>0</td>\n",
              "      <td>No</td>\n",
              "      <td>No</td>\n",
              "      <td>34</td>\n",
              "      <td>Yes</td>\n",
              "      <td>No</td>\n",
              "      <td>DSL</td>\n",
              "      <td>Yes</td>\n",
              "      <td>...</td>\n",
              "      <td>Yes</td>\n",
              "      <td>No</td>\n",
              "      <td>No</td>\n",
              "      <td>No</td>\n",
              "      <td>One year</td>\n",
              "      <td>No</td>\n",
              "      <td>Mailed check</td>\n",
              "      <td>56.95</td>\n",
              "      <td>1889.5</td>\n",
              "      <td>No</td>\n",
              "    </tr>\n",
              "    <tr>\n",
              "      <th>2</th>\n",
              "      <td>3668-QPYBK</td>\n",
              "      <td>Male</td>\n",
              "      <td>0</td>\n",
              "      <td>No</td>\n",
              "      <td>No</td>\n",
              "      <td>2</td>\n",
              "      <td>Yes</td>\n",
              "      <td>No</td>\n",
              "      <td>DSL</td>\n",
              "      <td>Yes</td>\n",
              "      <td>...</td>\n",
              "      <td>No</td>\n",
              "      <td>No</td>\n",
              "      <td>No</td>\n",
              "      <td>No</td>\n",
              "      <td>Month-to-month</td>\n",
              "      <td>Yes</td>\n",
              "      <td>Mailed check</td>\n",
              "      <td>53.85</td>\n",
              "      <td>108.15</td>\n",
              "      <td>Yes</td>\n",
              "    </tr>\n",
              "    <tr>\n",
              "      <th>3</th>\n",
              "      <td>7795-CFOCW</td>\n",
              "      <td>Male</td>\n",
              "      <td>0</td>\n",
              "      <td>No</td>\n",
              "      <td>No</td>\n",
              "      <td>45</td>\n",
              "      <td>No</td>\n",
              "      <td>No phone service</td>\n",
              "      <td>DSL</td>\n",
              "      <td>Yes</td>\n",
              "      <td>...</td>\n",
              "      <td>Yes</td>\n",
              "      <td>Yes</td>\n",
              "      <td>No</td>\n",
              "      <td>No</td>\n",
              "      <td>One year</td>\n",
              "      <td>No</td>\n",
              "      <td>Bank transfer (automatic)</td>\n",
              "      <td>42.30</td>\n",
              "      <td>1840.75</td>\n",
              "      <td>No</td>\n",
              "    </tr>\n",
              "    <tr>\n",
              "      <th>4</th>\n",
              "      <td>9237-HQITU</td>\n",
              "      <td>Female</td>\n",
              "      <td>0</td>\n",
              "      <td>No</td>\n",
              "      <td>No</td>\n",
              "      <td>2</td>\n",
              "      <td>Yes</td>\n",
              "      <td>No</td>\n",
              "      <td>Fiber optic</td>\n",
              "      <td>No</td>\n",
              "      <td>...</td>\n",
              "      <td>No</td>\n",
              "      <td>No</td>\n",
              "      <td>No</td>\n",
              "      <td>No</td>\n",
              "      <td>Month-to-month</td>\n",
              "      <td>Yes</td>\n",
              "      <td>Electronic check</td>\n",
              "      <td>70.70</td>\n",
              "      <td>151.65</td>\n",
              "      <td>Yes</td>\n",
              "    </tr>\n",
              "  </tbody>\n",
              "</table>\n",
              "<p>5 rows × 21 columns</p>\n",
              "</div>\n",
              "    <div class=\"colab-df-buttons\">\n",
              "\n",
              "  <div class=\"colab-df-container\">\n",
              "    <button class=\"colab-df-convert\" onclick=\"convertToInteractive('df-53d7b184-2308-4a03-89b9-686356178ab4')\"\n",
              "            title=\"Convert this dataframe to an interactive table.\"\n",
              "            style=\"display:none;\">\n",
              "\n",
              "  <svg xmlns=\"http://www.w3.org/2000/svg\" height=\"24px\" viewBox=\"0 -960 960 960\">\n",
              "    <path d=\"M120-120v-720h720v720H120Zm60-500h600v-160H180v160Zm220 220h160v-160H400v160Zm0 220h160v-160H400v160ZM180-400h160v-160H180v160Zm440 0h160v-160H620v160ZM180-180h160v-160H180v160Zm440 0h160v-160H620v160Z\"/>\n",
              "  </svg>\n",
              "    </button>\n",
              "\n",
              "  <style>\n",
              "    .colab-df-container {\n",
              "      display:flex;\n",
              "      gap: 12px;\n",
              "    }\n",
              "\n",
              "    .colab-df-convert {\n",
              "      background-color: #E8F0FE;\n",
              "      border: none;\n",
              "      border-radius: 50%;\n",
              "      cursor: pointer;\n",
              "      display: none;\n",
              "      fill: #1967D2;\n",
              "      height: 32px;\n",
              "      padding: 0 0 0 0;\n",
              "      width: 32px;\n",
              "    }\n",
              "\n",
              "    .colab-df-convert:hover {\n",
              "      background-color: #E2EBFA;\n",
              "      box-shadow: 0px 1px 2px rgba(60, 64, 67, 0.3), 0px 1px 3px 1px rgba(60, 64, 67, 0.15);\n",
              "      fill: #174EA6;\n",
              "    }\n",
              "\n",
              "    .colab-df-buttons div {\n",
              "      margin-bottom: 4px;\n",
              "    }\n",
              "\n",
              "    [theme=dark] .colab-df-convert {\n",
              "      background-color: #3B4455;\n",
              "      fill: #D2E3FC;\n",
              "    }\n",
              "\n",
              "    [theme=dark] .colab-df-convert:hover {\n",
              "      background-color: #434B5C;\n",
              "      box-shadow: 0px 1px 3px 1px rgba(0, 0, 0, 0.15);\n",
              "      filter: drop-shadow(0px 1px 2px rgba(0, 0, 0, 0.3));\n",
              "      fill: #FFFFFF;\n",
              "    }\n",
              "  </style>\n",
              "\n",
              "    <script>\n",
              "      const buttonEl =\n",
              "        document.querySelector('#df-53d7b184-2308-4a03-89b9-686356178ab4 button.colab-df-convert');\n",
              "      buttonEl.style.display =\n",
              "        google.colab.kernel.accessAllowed ? 'block' : 'none';\n",
              "\n",
              "      async function convertToInteractive(key) {\n",
              "        const element = document.querySelector('#df-53d7b184-2308-4a03-89b9-686356178ab4');\n",
              "        const dataTable =\n",
              "          await google.colab.kernel.invokeFunction('convertToInteractive',\n",
              "                                                    [key], {});\n",
              "        if (!dataTable) return;\n",
              "\n",
              "        const docLinkHtml = 'Like what you see? Visit the ' +\n",
              "          '<a target=\"_blank\" href=https://colab.research.google.com/notebooks/data_table.ipynb>data table notebook</a>'\n",
              "          + ' to learn more about interactive tables.';\n",
              "        element.innerHTML = '';\n",
              "        dataTable['output_type'] = 'display_data';\n",
              "        await google.colab.output.renderOutput(dataTable, element);\n",
              "        const docLink = document.createElement('div');\n",
              "        docLink.innerHTML = docLinkHtml;\n",
              "        element.appendChild(docLink);\n",
              "      }\n",
              "    </script>\n",
              "  </div>\n",
              "\n",
              "\n",
              "    <div id=\"df-185d6084-feae-479f-a3eb-10ac1f941e6d\">\n",
              "      <button class=\"colab-df-quickchart\" onclick=\"quickchart('df-185d6084-feae-479f-a3eb-10ac1f941e6d')\"\n",
              "                title=\"Suggest charts\"\n",
              "                style=\"display:none;\">\n",
              "\n",
              "<svg xmlns=\"http://www.w3.org/2000/svg\" height=\"24px\"viewBox=\"0 0 24 24\"\n",
              "     width=\"24px\">\n",
              "    <g>\n",
              "        <path d=\"M19 3H5c-1.1 0-2 .9-2 2v14c0 1.1.9 2 2 2h14c1.1 0 2-.9 2-2V5c0-1.1-.9-2-2-2zM9 17H7v-7h2v7zm4 0h-2V7h2v10zm4 0h-2v-4h2v4z\"/>\n",
              "    </g>\n",
              "</svg>\n",
              "      </button>\n",
              "\n",
              "<style>\n",
              "  .colab-df-quickchart {\n",
              "      --bg-color: #E8F0FE;\n",
              "      --fill-color: #1967D2;\n",
              "      --hover-bg-color: #E2EBFA;\n",
              "      --hover-fill-color: #174EA6;\n",
              "      --disabled-fill-color: #AAA;\n",
              "      --disabled-bg-color: #DDD;\n",
              "  }\n",
              "\n",
              "  [theme=dark] .colab-df-quickchart {\n",
              "      --bg-color: #3B4455;\n",
              "      --fill-color: #D2E3FC;\n",
              "      --hover-bg-color: #434B5C;\n",
              "      --hover-fill-color: #FFFFFF;\n",
              "      --disabled-bg-color: #3B4455;\n",
              "      --disabled-fill-color: #666;\n",
              "  }\n",
              "\n",
              "  .colab-df-quickchart {\n",
              "    background-color: var(--bg-color);\n",
              "    border: none;\n",
              "    border-radius: 50%;\n",
              "    cursor: pointer;\n",
              "    display: none;\n",
              "    fill: var(--fill-color);\n",
              "    height: 32px;\n",
              "    padding: 0;\n",
              "    width: 32px;\n",
              "  }\n",
              "\n",
              "  .colab-df-quickchart:hover {\n",
              "    background-color: var(--hover-bg-color);\n",
              "    box-shadow: 0 1px 2px rgba(60, 64, 67, 0.3), 0 1px 3px 1px rgba(60, 64, 67, 0.15);\n",
              "    fill: var(--button-hover-fill-color);\n",
              "  }\n",
              "\n",
              "  .colab-df-quickchart-complete:disabled,\n",
              "  .colab-df-quickchart-complete:disabled:hover {\n",
              "    background-color: var(--disabled-bg-color);\n",
              "    fill: var(--disabled-fill-color);\n",
              "    box-shadow: none;\n",
              "  }\n",
              "\n",
              "  .colab-df-spinner {\n",
              "    border: 2px solid var(--fill-color);\n",
              "    border-color: transparent;\n",
              "    border-bottom-color: var(--fill-color);\n",
              "    animation:\n",
              "      spin 1s steps(1) infinite;\n",
              "  }\n",
              "\n",
              "  @keyframes spin {\n",
              "    0% {\n",
              "      border-color: transparent;\n",
              "      border-bottom-color: var(--fill-color);\n",
              "      border-left-color: var(--fill-color);\n",
              "    }\n",
              "    20% {\n",
              "      border-color: transparent;\n",
              "      border-left-color: var(--fill-color);\n",
              "      border-top-color: var(--fill-color);\n",
              "    }\n",
              "    30% {\n",
              "      border-color: transparent;\n",
              "      border-left-color: var(--fill-color);\n",
              "      border-top-color: var(--fill-color);\n",
              "      border-right-color: var(--fill-color);\n",
              "    }\n",
              "    40% {\n",
              "      border-color: transparent;\n",
              "      border-right-color: var(--fill-color);\n",
              "      border-top-color: var(--fill-color);\n",
              "    }\n",
              "    60% {\n",
              "      border-color: transparent;\n",
              "      border-right-color: var(--fill-color);\n",
              "    }\n",
              "    80% {\n",
              "      border-color: transparent;\n",
              "      border-right-color: var(--fill-color);\n",
              "      border-bottom-color: var(--fill-color);\n",
              "    }\n",
              "    90% {\n",
              "      border-color: transparent;\n",
              "      border-bottom-color: var(--fill-color);\n",
              "    }\n",
              "  }\n",
              "</style>\n",
              "\n",
              "      <script>\n",
              "        async function quickchart(key) {\n",
              "          const quickchartButtonEl =\n",
              "            document.querySelector('#' + key + ' button');\n",
              "          quickchartButtonEl.disabled = true;  // To prevent multiple clicks.\n",
              "          quickchartButtonEl.classList.add('colab-df-spinner');\n",
              "          try {\n",
              "            const charts = await google.colab.kernel.invokeFunction(\n",
              "                'suggestCharts', [key], {});\n",
              "          } catch (error) {\n",
              "            console.error('Error during call to suggestCharts:', error);\n",
              "          }\n",
              "          quickchartButtonEl.classList.remove('colab-df-spinner');\n",
              "          quickchartButtonEl.classList.add('colab-df-quickchart-complete');\n",
              "        }\n",
              "        (() => {\n",
              "          let quickchartButtonEl =\n",
              "            document.querySelector('#df-185d6084-feae-479f-a3eb-10ac1f941e6d button');\n",
              "          quickchartButtonEl.style.display =\n",
              "            google.colab.kernel.accessAllowed ? 'block' : 'none';\n",
              "        })();\n",
              "      </script>\n",
              "    </div>\n",
              "\n",
              "    </div>\n",
              "  </div>\n"
            ],
            "application/vnd.google.colaboratory.intrinsic+json": {
              "type": "dataframe",
              "variable_name": "data"
            }
          },
          "metadata": {},
          "execution_count": 22
        }
      ]
    },
    {
      "cell_type": "markdown",
      "source": [
        "---"
      ],
      "metadata": {
        "id": "-vErwXJpzT1x"
      }
    },
    {
      "cell_type": "markdown",
      "source": [
        "### Introduction to Matplotlib\n",
        "\n",
        "**How to create a basic plot using `plt`?**\n",
        "\n",
        "Let's say we want to draw a curve passing through 3 points:\n",
        "- (0, 3)\n",
        "- (1, 5)\n",
        "- (2, 9)\n",
        "\n",
        "**How can we draw a curve using `matplotlib`?**\n",
        "\n",
        "- by using the `plt.plot()` function"
      ],
      "metadata": {
        "id": "sA_sriWn78BE"
      }
    },
    {
      "cell_type": "code",
      "execution_count": 24,
      "metadata": {
        "scrolled": true,
        "colab": {
          "base_uri": "https://localhost:8080/",
          "height": 447
        },
        "id": "414089ff",
        "outputId": "490eea77-3314-4ff8-fb5e-8493589ffb2f"
      },
      "outputs": [
        {
          "output_type": "execute_result",
          "data": {
            "text/plain": [
              "[<matplotlib.lines.Line2D at 0x7d5c1c8eb5c0>]"
            ]
          },
          "metadata": {},
          "execution_count": 24
        },
        {
          "output_type": "display_data",
          "data": {
            "text/plain": [
              "<Figure size 640x480 with 1 Axes>"
            ],
            "image/png": "[encoded data removed]"
          },
          "metadata": {}
        }
      ],
      "source": [
        "x_val = [0, 1, 2]\n",
        "y_val = [3, 5, 9]\n",
        "plt.plot(x_val, y_val)"
      ]
    },
    {
      "cell_type": "markdown",
      "metadata": {
        "id": "2d8812bf"
      },
      "source": [
        "**What can we observe from this plot?**\n",
        "  \n",
        "- `plt.plot()` automatically decided the scale of the plot.\n",
        "- It also prints the **type of object** i.e. `matplotlib.lines.Line2D`\n",
        "\n",
        "While this command decided a lot of things for you, you can customise each of these by understanding the **components of a matplotlib plot**."
      ]
    },
    {
      "cell_type": "markdown",
      "source": [
        "---"
      ],
      "metadata": {
        "id": "pJN3o33H0JHl"
      }
    },
    {
      "cell_type": "markdown",
      "metadata": {
        "id": "19821967"
      },
      "source": [
        "## Anatomy of Matplotlib\n",
        "\n",
        "<!-- <img src=\"https://d2beiqkhq929f0.cloudfront.net/public_assets/assets/000/019/567/original/image_2022-11-10_121820129.png?1668062911\"> -->\n",
        "\n",
        "\n",
        "<!-- <img src=\"https://files.realpython.com/media/fig_map.bc8c7cabd823.png\" />\n",
        "<img src=\"https://d2beiqkhq929f0.cloudfront.net/public_assets/assets/000/019/579/original/image_2022-11-10_150131378.png?1668072693\"> -->\n",
        "\n",
        "<img src=\"https://d2beiqkhq929f0.cloudfront.net/public_assets/assets/000/019/615/original/image_2022-11-11_112008033.png?1668145811\">\n",
        "\n",
        "Woah! There is a lot of information in this image. Let's understand them one at a time."
      ]
    },
    {
      "cell_type": "markdown",
      "source": [
        "---"
      ],
      "metadata": {
        "id": "6nLkmKay1c4z"
      }
    },
    {
      "cell_type": "markdown",
      "source": [
        "### Components of a Matplotlib plot\n",
        "\n",
        "- Figure: The **overall window** or page that everything is drawn on.\n",
        "  - You can create multiple independent Figures in Jupyter.\n",
        "  - If you run the code in terminal, separate windows will pop-up.\n",
        "- Axes: You can add multiple **Axes** to the Figure, which represents a plot.\n",
        "\n",
        "- **Axis**: Simply the `x-axis` and `y-axis`\n",
        "\n",
        "- **Axes**: It is the **area** on which the **data is plotted** with functions such as `plot()`.\n",
        "    - **x-label**: Name of x-axis\n",
        "    - **y-label**: Name of y-axis\n",
        "\n",
        "- **Major ticks**:\n",
        "  - Subdivides the axis into major units.\n",
        "  - They appear by default during plotting.\n",
        "- **Minor ticks**:\n",
        "  - Subdivides the major tick units.\n",
        "  - They are by default hidden and can be toggled on.\n",
        "\n",
        "- **Title**: Title of each plot **(Axes)**\n",
        "\n",
        "- **Subtitle**: The common title of all the plots.\n",
        "\n",
        "- **Legend**:\n",
        "  - Describes the elements in the plot.\n",
        "  - Blue and Green curves in this case.\n",
        "\n",
        "These are the major components of a matplotlib plot."
      ],
      "metadata": {
        "id": "k7l21XZO1Lya"
      }
    },
    {
      "cell_type": "markdown",
      "source": [
        "---"
      ],
      "metadata": {
        "id": "IubjZAdQ1f2_"
      }
    },
    {
      "cell_type": "markdown",
      "source": [
        "### How to choose the right plot?\n",
        "\n",
        "Firstly, it depends on the what is your question of interest.\n",
        "\n",
        "When the question is clear\n",
        "- How many variables are involved?\n",
        "- Whether the variable(s) are numerical or categorical?\n",
        "\n",
        "**How many variables are involved?**\n",
        "\n",
        "- 1 Variable $\\rightarrow$ Univariate Analysis\n",
        "- 2 Variables $\\rightarrow$ Bivariate Analysis\n",
        "- 3+ Variables $\\rightarrow$ Multivariate Analysis\n",
        "\n",
        "**What are the possible cases?**\n",
        "\n",
        "#### Univariate\n",
        "- Numerical\n",
        "- Categorical\n",
        "\n",
        "#### Bivariate\n",
        "- Numerical-Numerical\n",
        "- Numerical-Categorical\n",
        "- Categorical-Categorical\n",
        "\n",
        "#### Multivariate\n",
        "\n",
        "Let's start with these and then we can generalize.\n",
        "\n",
        "- Numerical-Numerical-Categorical\n",
        "- Categorical-Categorical-Numerical\n",
        "- Categorical-Categorical-Categorical\n",
        "- Numerical-Numerical-Numerical"
      ],
      "metadata": {
        "id": "11Dr_W_3amLs"
      }
    },
    {
      "cell_type": "markdown",
      "source": [
        "---"
      ],
      "metadata": {
        "id": "_-iAZKKu2GjB"
      }
    },
    {
      "cell_type": "markdown",
      "source": [
        "### Univariate Data Visualization - Categorical Data\n",
        "\n",
        "**What kind of questions we may want to ask for a categorical variable?**\n",
        "\n",
        "- What is the Distribution/Frequency of the data across different categories?\n",
        "- What proportion does a particular category constitutes?\n",
        "\n",
        "<!-- - What are the top-5 most popular genre of games played?\n",
        "- Or distribution of sales across various parts of the world? -->\n",
        "\n",
        "...and so on\n",
        "\n"
      ],
      "metadata": {
        "id": "4EU_MB-36vLh"
      }
    },
    {
      "cell_type": "markdown",
      "metadata": {
        "id": "852f5fef"
      },
      "source": [
        "Let's take the categorical column \"Genre\".\n",
        "\n",
        "**How can we find the top-5 genres?**"
      ]
    },
    {
      "cell_type": "code",
      "source": [
        "cat_counts = data['Churn'].value_counts()\n",
        "cat_counts"
      ],
      "metadata": {
        "colab": {
          "base_uri": "https://localhost:8080/",
          "height": 178
        },
        "id": "r_zmGBsV77PM",
        "outputId": "e202d5e3-f3f0-45bb-8f5f-bcb1ba40c55c"
      },
      "execution_count": 25,
      "outputs": [
        {
          "output_type": "execute_result",
          "data": {
            "text/plain": [
              "Churn\n",
              "No     5174\n",
              "Yes    1869\n",
              "Name: count, dtype: int64"
            ],
            "text/html": [
              "<div>\n",
              "<style scoped>\n",
              "    .dataframe tbody tr th:only-of-type {\n",
              "        vertical-align: middle;\n",
              "    }\n",
              "\n",
              "    .dataframe tbody tr th {\n",
              "        vertical-align: top;\n",
              "    }\n",
              "\n",
              "    .dataframe thead th {\n",
              "        text-align: right;\n",
              "    }\n",
              "</style>\n",
              "<table border=\"1\" class=\"dataframe\">\n",
              "  <thead>\n",
              "    <tr style=\"text-align: right;\">\n",
              "      <th></th>\n",
              "      <th>count</th>\n",
              "    </tr>\n",
              "    <tr>\n",
              "      <th>Churn</th>\n",
              "      <th></th>\n",
              "    </tr>\n",
              "  </thead>\n",
              "  <tbody>\n",
              "    <tr>\n",
              "      <th>No</th>\n",
              "      <td>5174</td>\n",
              "    </tr>\n",
              "    <tr>\n",
              "      <th>Yes</th>\n",
              "      <td>1869</td>\n",
              "    </tr>\n",
              "  </tbody>\n",
              "</table>\n",
              "</div><br><label><b>dtype:</b> int64</label>"
            ]
          },
          "metadata": {},
          "execution_count": 25
        }
      ]
    },
    {
      "cell_type": "markdown",
      "source": [
        "**What kind of plot can we use to visualize this information?**\n",
        "\n",
        "- We can perhaps plot categories on X-axis and their corresponding frequencies on Y-axis.\n",
        "- This is called a `Bar Chart` or a `Count Plot`.\n",
        "\n",
        "### Bar Chart\n",
        "\n",
        "- We can draw a bar plot using `plt.bar()`.\n",
        "- The data is binned here into categories."
      ],
      "metadata": {
        "id": "fX5anEI6DbVY"
      }
    },
    {
      "cell_type": "code",
      "execution_count": 26,
      "metadata": {
        "scrolled": true,
        "colab": {
          "base_uri": "https://localhost:8080/",
          "height": 447
        },
        "id": "c0c1f880",
        "outputId": "2ade785f-13ce-4d30-f2d5-8b1c768e8591"
      },
      "outputs": [
        {
          "output_type": "execute_result",
          "data": {
            "text/plain": [
              "<BarContainer object of 2 artists>"
            ]
          },
          "metadata": {},
          "execution_count": 26
        },
        {
          "output_type": "display_data",
          "data": {
            "text/plain": [
              "<Figure size 640x480 with 1 Axes>"
            ],
            "image/png": "[encoded data removed]"
          },
          "metadata": {}
        }
      ],
      "source": [
        "x_bar=cat_counts.index\n",
        "y_bar=cat_counts\n",
        "plt.bar(x_bar,y_bar)"
      ]
    },
    {
      "cell_type": "markdown",
      "source": [
        "The names seem to be overlapping.\n",
        "\n",
        "**How can we handle overlapping labels?**\n",
        "1. Decrease the font size (not preferred)\n",
        "2. Increase the figure size\n",
        "3. Rotate the labels\n",
        "\n",
        "**How can we change the plot size?**"
      ],
      "metadata": {
        "id": "kDcvoihzGuWv"
      }
    },
    {
      "cell_type": "code",
      "source": [
        "plt.figure(figsize=(12,8))\n",
        "plt.bar(x_bar,y_bar)"
      ],
      "metadata": {
        "colab": {
          "base_uri": "https://localhost:8080/",
          "height": 693
        },
        "id": "9ndSF5sLGszP",
        "outputId": "dbe9cb1b-9a2d-4e7f-9f59-9ea54f1243f8"
      },
      "execution_count": 27,
      "outputs": [
        {
          "output_type": "execute_result",
          "data": {
            "text/plain": [
              "<BarContainer object of 2 artists>"
            ]
          },
          "metadata": {},
          "execution_count": 27
        },
        {
          "output_type": "display_data",
          "data": {
            "text/plain": [
              "<Figure size 1200x800 with 1 Axes>"
            ],
            "image/png": "[encoded data removed]"
          },
          "metadata": {}
        }
      ]
    },
    {
      "cell_type": "markdown",
      "source": [
        "**How can we rotate the tick labels, also increase the fontsize of the same?**"
      ],
      "metadata": {
        "id": "tinSTUn2b2w-"
      }
    },
    {
      "cell_type": "code",
      "source": [
        "plt.figure(figsize=(12,8))\n",
        "plt.bar(x_bar,y_bar)\n",
        "plt.xticks(rotation=90, fontsize=10)"
      ],
      "metadata": {
        "colab": {
          "base_uri": "https://localhost:8080/",
          "height": 701
        },
        "id": "5kYuGiBQbsul",
        "outputId": "559598ea-5566-4d6e-ae47-25aee6e9ed0f"
      },
      "execution_count": 28,
      "outputs": [
        {
          "output_type": "execute_result",
          "data": {
            "text/plain": [
              "([0, 1], [Text(0, 0, 'No'), Text(1, 0, 'Yes')])"
            ]
          },
          "metadata": {},
          "execution_count": 28
        },
        {
          "output_type": "display_data",
          "data": {
            "text/plain": [
              "<Figure size 1200x800 with 1 Axes>"
            ],
            "image/png": "[encoded data removed]"
          },
          "metadata": {}
        }
      ]
    },
    {
      "cell_type": "markdown",
      "metadata": {
        "id": "73a58ef3"
      },
      "source": [
        "If you notice, the width of each bar is **1**.\n",
        "\n",
        "**Can we also change the width of these bars?**"
      ]
    },
    {
      "cell_type": "code",
      "execution_count": 29,
      "metadata": {
        "scrolled": true,
        "colab": {
          "base_uri": "https://localhost:8080/",
          "height": 706
        },
        "id": "550d124d",
        "outputId": "9791c3df-49e4-4a2e-ba91-e01adabe3302"
      },
      "outputs": [
        {
          "output_type": "execute_result",
          "data": {
            "text/plain": [
              "([0, 1], [Text(0, 0, 'No'), Text(1, 0, 'Yes')])"
            ]
          },
          "metadata": {},
          "execution_count": 29
        },
        {
          "output_type": "display_data",
          "data": {
            "text/plain": [
              "<Figure size 1000x800 with 1 Axes>"
            ],
            "image/png": "[encoded data removed]"
          },
          "metadata": {}
        }
      ],
      "source": [
        "plt.figure(figsize=(10,8))\n",
        "plt.bar(x_bar,y_bar,width=0.2)\n",
        "plt.xticks(rotation=90, fontsize=12)"
      ]
    },
    {
      "cell_type": "markdown",
      "metadata": {
        "id": "b15f761e"
      },
      "source": [
        "**What about any adding some styling to the bars?**\n",
        "\n",
        "- We can **change the colour of bars**\n",
        "- We can add a **title to the axes**\n",
        "- We can also **add x and y labels**"
      ]
    },
    {
      "cell_type": "code",
      "source": [
        "plt.figure(figsize=(10,8))\n",
        "plt.bar(x_bar,y_bar,width=0.2,color='orange')\n",
        "plt.title('Customer churn distributiion',fontsize=15)\n",
        "plt.xlabel('Churn satatus',fontsize=12)\n",
        "plt.ylabel('Number of customers',fontsize=12)\n",
        "plt.xticks(rotation = 90, fontsize=12)\n",
        "plt.yticks(fontsize=12)"
      ],
      "metadata": {
        "colab": {
          "base_uri": "https://localhost:8080/",
          "height": 876
        },
        "id": "SiJXrExWkNbD",
        "outputId": "a54125d2-766d-44bf-da8a-4a725e403afc"
      },
      "execution_count": 32,
      "outputs": [
        {
          "output_type": "execute_result",
          "data": {
            "text/plain": [
              "(array([   0., 1000., 2000., 3000., 4000., 5000., 6000.]),\n",
              " [Text(0, 0.0, '0'),\n",
              "  Text(0, 1000.0, '1000'),\n",
              "  Text(0, 2000.0, '2000'),\n",
              "  Text(0, 3000.0, '3000'),\n",
              "  Text(0, 4000.0, '4000'),\n",
              "  Text(0, 5000.0, '5000'),\n",
              "  Text(0, 6000.0, '6000')])"
            ]
          },
          "metadata": {},
          "execution_count": 32
        },
        {
          "output_type": "display_data",
          "data": {
            "text/plain": [
              "<Figure size 1000x800 with 1 Axes>"
            ],
            "image/png": "[encoded data removed]"
          },
          "metadata": {}
        }
      ]
    },
    {
      "cell_type": "markdown",
      "source": [
        "If you notice, there's some text which is always printed before the plots.\n",
        "\n",
        "This contains the data information of the plot.\n",
        "\n",
        "**How can we remove the text printed before the plot?**\n",
        "- by using `plt.show()` at the end"
      ],
      "metadata": {
        "id": "_5TCkAWWcIgQ"
      }
    },
    {
      "cell_type": "code",
      "source": [
        "plt.figure(figsize=(10,8))\n",
        "plt.bar(x_bar,y_bar,width=0.2,color='orange')\n",
        "plt.title('Customer churn distributiion',fontsize=15)\n",
        "plt.xlabel('Churn satatus',fontsize=12)\n",
        "plt.ylabel('Number of customers',fontsize=12)\n",
        "plt.xticks(rotation = 90, fontsize=12)\n",
        "plt.yticks(fontsize=12)\n",
        "plt.show()"
      ],
      "metadata": {
        "colab": {
          "base_uri": "https://localhost:8080/",
          "height": 737
        },
        "id": "81gN3KGncH56",
        "outputId": "ddf8e9cb-9ca7-4a71-dd92-373434416280"
      },
      "execution_count": 33,
      "outputs": [
        {
          "output_type": "display_data",
          "data": {
            "text/plain": [
              "<Figure size 1000x800 with 1 Axes>"
            ],
            "image/png": "[encoded data removed]"
          },
          "metadata": {}
        }
      ]
    },
    {
      "cell_type": "markdown",
      "source": [
        "**How can we draw a bar chart in Seaborn?**\n",
        "\n",
        "- In Seaborn, the same plot is called a **countplot**.\n",
        "- It automatically does the counting of frequencies for you.\n",
        "\n",
        "**Why not just call it a barplot?**\n",
        "\n",
        "There is another function in Seaborn called a **barplot** which has some other purpose. We'll discuss this later."
      ],
      "metadata": {
        "id": "biW_v9aVFbnd"
      }
    },
    {
      "cell_type": "code",
      "source": [
        "sns.countplot(x='Churn', data=data, order=data['Churn'].value_counts().index, color='cornflowerblue')\n",
        "plt.xticks(rotation=90)"
      ],
      "metadata": {
        "colab": {
          "base_uri": "https://localhost:8080/",
          "height": 475
        },
        "id": "tqBEZd99Fu-J",
        "outputId": "fbdfd26c-aedd-41b6-dcf7-ddcc0fe44c3a"
      },
      "execution_count": 35,
      "outputs": [
        {
          "output_type": "execute_result",
          "data": {
            "text/plain": [
              "([0, 1], [Text(0, 0, 'No'), Text(1, 0, 'Yes')])"
            ]
          },
          "metadata": {},
          "execution_count": 35
        },
        {
          "output_type": "display_data",
          "data": {
            "text/plain": [
              "<Figure size 640x480 with 1 Axes>"
            ],
            "image/png": "[encoded data removed]"
          },
          "metadata": {}
        }
      ]
    },
    {
      "cell_type": "markdown",
      "source": [
        "The top 5 genres are action, sports, misc, role-playing, and shooter."
      ],
      "metadata": {
        "id": "oXFkWdQ8v6HO"
      }
    },
    {
      "cell_type": "markdown",
      "source": [
        "---"
      ],
      "metadata": {
        "id": "IP8eTQUmS1fD"
      }
    },
    {
      "cell_type": "markdown",
      "source": [
        "### Pie Chart\n",
        "\n",
        "**What if instead of actual frequencues, we want see the proportion of the categories?**\n",
        "\n",
        "Say, we want to compare the distrubution/proportion of sales across different regions?\n",
        "\n",
        "Which plot can we use for this? A pie-chart!"
      ],
      "metadata": {
        "id": "2k61PgsmH7jN"
      }
    },
    {
      "cell_type": "code",
      "source": [
        "churn_counts = data['Churn'].value_counts()\n",
        "\n",
        "plt.pie(churn_counts, labels=churn_counts.index, autopct='%1.1f%%',\n",
        "        colors=['skyblue', 'salmon'], startangle=90)\n",
        "\n",
        "plt.title(\"Customer Churn Distribution\", fontsize=14)\n",
        "plt.show()"
      ],
      "metadata": {
        "id": "OBh73w1xxI1I",
        "colab": {
          "base_uri": "https://localhost:8080/",
          "height": 429
        },
        "outputId": "e44635ad-42a6-4eab-ed13-bc8b2fb832a7"
      },
      "execution_count": 38,
      "outputs": [
        {
          "output_type": "display_data",
          "data": {
            "text/plain": [
              "<Figure size 640x480 with 1 Axes>"
            ],
            "image/png": "[encoded data removed]"
          },
          "metadata": {}
        }
      ]
    },
    {
      "cell_type": "markdown",
      "source": [
        "---"
      ],
      "metadata": {
        "id": "UYe9YQCQQJzQ"
      }
    },
    {
      "cell_type": "markdown",
      "source": [
        "### Univariate Data Visualisation - Numerical Data\n",
        "\n",
        "**What kind of questions we may have regarding a numerical variable?**\n",
        "\n",
        "- How is the data distributed?\n",
        "- Is the data skewed? Are there any outliers?\n",
        "- How much percentage of data is below/above a certain number?\n",
        "- Statistics like - Min, Max, Mean, Median, etc."
      ],
      "metadata": {
        "id": "Kcjws5NRHPai"
      }
    },
    {
      "cell_type": "markdown",
      "source": [
        "Now say you want to find the distribution of games released every year.\n",
        "\n",
        "Unlike barplot, to see the distribution here we will have to `bin` the data.\n",
        "\n",
        "**How can we understand popularity of video games year by year?**\n",
        "\n",
        "### Histogram"
      ],
      "metadata": {
        "id": "v3zFcoK3fTau"
      }
    },
    {
      "cell_type": "code",
      "source": [
        "plt.hist(data['MonthlyCharges'], bins=30, color='skyblue', edgecolor='black')\n",
        "\n",
        "plt.xlabel(\"Monthly Charges\", fontsize=12)\n",
        "plt.ylabel(\"Number of Customers\", fontsize=12)\n",
        "plt.title(\"Distribution of Monthly Charges\", fontsize=14)\n",
        "\n",
        "plt.show()"
      ],
      "metadata": {
        "id": "ufLQtiSy6ueh",
        "colab": {
          "base_uri": "https://localhost:8080/",
          "height": 477
        },
        "outputId": "47f40121-b1c5-4fee-fff0-dfb3ecf60095"
      },
      "execution_count": 41,
      "outputs": [
        {
          "output_type": "display_data",
          "data": {
            "text/plain": [
              "<Figure size 640x480 with 1 Axes>"
            ],
            "image/png": "[encoded data removed]"
          },
          "metadata": {}
        }
      ]
    },
    {
      "cell_type": "markdown",
      "source": [
        "- The curve is left skewed, with a lot more games being published in 2005-2015.\n",
        "- This shows that games started becoming highly popular in the last 1-2 decades.\n",
        "- Maybe could point to increased usage of internet worldwide."
      ],
      "metadata": {
        "id": "ZFYrqzxDwrD_"
      }
    },
    {
      "cell_type": "markdown",
      "source": [
        "If you notice, histograms are basically frequency charts.\n",
        "\n",
        "We can also vary the number of bins. **The default number of bins is 10**\n",
        "\n",
        "If we want to see this data per decade, we would need 40 years in 4 bins."
      ],
      "metadata": {
        "id": "w7S_BYZb8buE"
      }
    },
    {
      "cell_type": "code",
      "source": [
        "plt.hist(data['MonthlyCharges'], bins=4)\n",
        "plt.show()"
      ],
      "metadata": {
        "id": "0SDqxc-O8Ny4",
        "colab": {
          "base_uri": "https://localhost:8080/",
          "height": 430
        },
        "outputId": "656b8480-fa57-42bf-dbcd-df535f5a71aa"
      },
      "execution_count": 42,
      "outputs": [
        {
          "output_type": "display_data",
          "data": {
            "text/plain": [
              "<Figure size 640x480 with 1 Axes>"
            ],
            "image/png": "[encoded data removed]"
          },
          "metadata": {}
        }
      ]
    },
    {
      "cell_type": "markdown",
      "source": [
        "We can also get the data of each bin, such as range of the boundaries, values, etc."
      ],
      "metadata": {
        "id": "GFoNAXT3B_7X"
      }
    },
    {
      "cell_type": "code",
      "source": [
        "count, bins, _ = plt.hist(data['MonthlyCharges'])"
      ],
      "metadata": {
        "id": "2EVGEY4-CEDD",
        "colab": {
          "base_uri": "https://localhost:8080/",
          "height": 430
        },
        "outputId": "e905a858-cc48-46fb-b7b9-77d035789fe9"
      },
      "execution_count": 43,
      "outputs": [
        {
          "output_type": "display_data",
          "data": {
            "text/plain": [
              "<Figure size 640x480 with 1 Axes>"
            ],
            "image/png": "[encoded data removed]"
          },
          "metadata": {}
        }
      ]
    },
    {
      "cell_type": "code",
      "source": [
        "count"
      ],
      "metadata": {
        "id": "xxnNCJNMCYPX",
        "colab": {
          "base_uri": "https://localhost:8080/"
        },
        "outputId": "a460d94b-78eb-4b20-d14c-60edc16f239d"
      },
      "execution_count": 44,
      "outputs": [
        {
          "output_type": "execute_result",
          "data": {
            "text/plain": [
              "array([1606.,  191.,  365.,  639.,  473.,  895.,  953.,  869.,  758.,\n",
              "        294.])"
            ]
          },
          "metadata": {},
          "execution_count": 44
        }
      ]
    },
    {
      "cell_type": "code",
      "source": [
        "bins"
      ],
      "metadata": {
        "id": "HU66xUUNCaRh",
        "colab": {
          "base_uri": "https://localhost:8080/"
        },
        "outputId": "2f6051eb-91c7-4820-eaf1-c0662ffe299a"
      },
      "execution_count": 45,
      "outputs": [
        {
          "output_type": "execute_result",
          "data": {
            "text/plain": [
              "array([ 18.25,  28.3 ,  38.35,  48.4 ,  58.45,  68.5 ,  78.55,  88.6 ,\n",
              "        98.65, 108.7 , 118.75])"
            ]
          },
          "metadata": {},
          "execution_count": 45
        }
      ]
    },
    {
      "cell_type": "markdown",
      "source": [
        "**What do these `count` and `bins` mean?**\n",
        "\n",
        "- **bins** provides bin edges\n",
        "- **counts** provides it corresponding counts\n",
        "\n",
        "**What is the length of `count`?**\n",
        "- 10\n",
        "\n",
        "**What shoud be the length of `bins`?**\n",
        "- 10 + 1 = 11"
      ],
      "metadata": {
        "id": "l5K2VX7NCTW5"
      }
    },
    {
      "cell_type": "markdown",
      "source": [
        "**How can we plot a histogram in Seaborn?**"
      ],
      "metadata": {
        "id": "vGpJQYPhCiOj"
      }
    },
    {
      "cell_type": "code",
      "source": [
        "sns.histplot(data['MonthlyCharges'], bins=10)"
      ],
      "metadata": {
        "id": "CJ89l9e1ClYB",
        "colab": {
          "base_uri": "https://localhost:8080/",
          "height": 466
        },
        "outputId": "c2eadce5-1dc5-47d5-d4e8-7cd22b3fc97f"
      },
      "execution_count": 46,
      "outputs": [
        {
          "output_type": "execute_result",
          "data": {
            "text/plain": [
              "<Axes: xlabel='MonthlyCharges', ylabel='Count'>"
            ]
          },
          "metadata": {},
          "execution_count": 46
        },
        {
          "output_type": "display_data",
          "data": {
            "text/plain": [
              "<Figure size 640x480 with 1 Axes>"
            ],
            "image/png": "[encoded data removed]"
          },
          "metadata": {}
        }
      ]
    },
    {
      "cell_type": "markdown",
      "source": [
        "Notice that,\n",
        "- The boundaries are more defined than matplotlib's plotting.\n",
        "- The x and y axis are labelled automatically."
      ],
      "metadata": {
        "id": "FECIz8l2C078"
      }
    },
    {
      "cell_type": "markdown",
      "source": [
        "---"
      ],
      "metadata": {
        "id": "yGq6QQCwS3gB"
      }
    },
    {
      "cell_type": "markdown",
      "source": [
        "### Kernel Density Estimate (KDE) Plot\n",
        "\n",
        "- A KDE plot, similar to histrogram, is a method for visualizing the distributions.\n",
        "- But instead of bars, KDE represents data using a **continuous probability density curve**.\n",
        "\n",
        "**Why do we even need KDE plots?**\n",
        "\n",
        "- Compared to histogram, KDE produces a plot which is **less cluttered** and **more interpretable**.\n",
        "- Think of it as a **smoothened version** of a histogram.\n",
        "\n",
        "\\\n",
        "Let's plot KDE using `seaborn`'s `kdeplot`."
      ],
      "metadata": {
        "id": "CIJxGP8QBvNA"
      }
    },
    {
      "cell_type": "code",
      "source": [
        "sns.kdeplot(data['MonthlyCharges'])"
      ],
      "metadata": {
        "id": "7sNAIAszBwQk",
        "colab": {
          "base_uri": "https://localhost:8080/",
          "height": 466
        },
        "outputId": "e3dee5da-67c3-4b4a-cedf-b8e58dbf6778"
      },
      "execution_count": 47,
      "outputs": [
        {
          "output_type": "execute_result",
          "data": {
            "text/plain": [
              "<Axes: xlabel='MonthlyCharges', ylabel='Density'>"
            ]
          },
          "metadata": {},
          "execution_count": 47
        },
        {
          "output_type": "display_data",
          "data": {
            "text/plain": [
              "<Figure size 640x480 with 1 Axes>"
            ],
            "image/png": "[encoded data removed]"
          },
          "metadata": {}
        }
      ]
    },
    {
      "cell_type": "markdown",
      "source": [
        "**Can you notice the difference between KDE plot and histogram?**\n",
        "\n",
        "The Y-axis has **probability density estimation** instead of count.\n",
        "\n",
        "You can read more about this on:\n",
        "- https://en.wikipedia.org/wiki/Kernel_density_estimation\n",
        "- https://www.youtube.com/watch?v=DCgPRaIDYXA\n",
        "\n"
      ],
      "metadata": {
        "id": "OE0pOAZdDdi6"
      }
    },
    {
      "cell_type": "markdown",
      "source": [
        "---"
      ],
      "metadata": {
        "id": "CAeMMpoRS5Lo"
      }
    },
    {
      "cell_type": "markdown",
      "source": [
        "### Boxplot\n",
        "\n",
        "**What if we want to find the aggregates like median, min, max and percentiles of the data.**\n",
        "\n",
        "Say I want the typical earnings of a game when it is published.\n",
        "\n",
        "**What kind of plot can we use here?** Boxplot\n",
        "\n",
        "**What exactly is a Box plot?**\n",
        "\n",
        "- A box plot or **box and whiskers plot** shows the **distribution of quantitative data**.\n",
        "- It facilitates comparisons between\n",
        "  - attributes\n",
        "  - across levels\n",
        "\n",
        "of a categorical attribute.\n",
        "\n",
        "- The **box** shows the **quartiles** of the dataset.\n",
        "- The **whiskers** show the **rest of the distribution**.\n",
        "- Except for points that are determined to be **\"outliers\"** using a method that is a function of the **inter-quartile range**.\n",
        "\n",
        "Let's go through the terminology one-by-one.\n",
        "\n",
        "<!-- #### What's a quartile? -->\n",
        "\n",
        "<!-- - Box plot shows distribution of numerical data and skewness through displaying the **data percentiles**, called **quartiles**. -->\n",
        "\n",
        "#### Box plots show the five-number summary of data:\n",
        "1. Minimum score\n",
        "2. First (lower) quartile\n",
        "3. Median\n",
        "4. Third (upper) quartile\n",
        "5. Maximum score\n",
        "\n",
        "##### 1. Minimum Score\n",
        "- It is the **lowest value**, excluding outliers.\n",
        "- It is shown at the **end of bottom whisker**.\n",
        "\n",
        "#### 2. Lower Quartile\n",
        "- **25% of values** fall below the lower quartile value.\n",
        "- It is also known as the **first quartile**.\n",
        "\n",
        "##### 3. Median\n",
        "- Median marks the **mid-point of the data**.\n",
        "- It is shown by the **line that divides the box into two parts**.\n",
        "- **Half the scores are greater than or equal to this value and half are less**.\n",
        "- It is sometimes known as the **second quartile**.\n",
        "\n",
        "##### 4. Upper Quartile\n",
        "- **75% of values** fall below the upper quartile value.\n",
        "- It is also known as the **third quartile**.\n",
        "\n",
        "#### Maximum Score\n",
        "- It is the **highest value**, excluding outliers.\n",
        "- It is shown at the **end of upper whisker**.\n",
        "\n",
        "#### Whiskers\n",
        "- The upper and lower whiskers represent **values outside the middle 50%**.\n",
        "- That is, the **lower 25% of values** and the **upper 25% of values**.\n",
        "\n",
        "#### Interquartile Range (or IQR)\n",
        "- This is the box plot showing the **middle 50% of scores**.\n",
        "- It is the **range between the 25th and 75th percentile**.\n",
        "\n",
        "\\\n",
        "**Let's plot a box plot to find the average typical earnings for a game.**"
      ],
      "metadata": {
        "id": "6Wl2YR03Gyh9"
      }
    },
    {
      "cell_type": "code",
      "source": [
        "plt.figure(figsize=(6,4))\n",
        "sns.boxplot(x=\"Churn\", y=\"tenure\", data=data, palette=\"coolwarm\")\n",
        "plt.title(\"Tenure vs Churn\", fontsize=14)\n",
        "plt.xlabel(\"Churn Status\", fontsize=12)\n",
        "plt.ylabel(\"Tenure (Months)\", fontsize=12)\n",
        "plt.show()\n"
      ],
      "metadata": {
        "id": "TG-zrlpCCcdq",
        "colab": {
          "base_uri": "https://localhost:8080/",
          "height": 522
        },
        "outputId": "dab5bb99-aefd-4eb8-88d0-b94703ce010d"
      },
      "execution_count": 51,
      "outputs": [
        {
          "output_type": "stream",
          "name": "stderr",
          "text": [
            "/tmp/ipython-input-1806950126.py:2: FutureWarning: \n",
            "\n",
            "Passing `palette` without assigning `hue` is deprecated and will be removed in v0.14.0. Assign the `x` variable to `hue` and set `legend=False` for the same effect.\n",
            "\n",
            "  sns.boxplot(x=\"Churn\", y=\"tenure\", data=data, palette=\"coolwarm\")\n"
          ]
        },
        {
          "output_type": "display_data",
          "data": {
            "text/plain": [
              "<Figure size 600x400 with 1 Axes>"
            ],
            "image/png": "[encoded data removed]"
          },
          "metadata": {}
        }
      ]
    },
    {
      "cell_type": "markdown",
      "source": [
        "**What can we infer from this?**\n",
        "\n",
        "The 5 point estimates here are:\n",
        "- Minimum, excluding outliers: 0\n",
        "- Maximum, excluding outliers: 20 (in million dollars)\n",
        "- 25th Quantile: 6 million\n",
        "- Median: around 7 million\n",
        "- 75th Quantile: 12 million\n",
        "\n",
        "**Note:**\n",
        "- The outliers always will appear either below the minimum or above the maximum.\n",
        "- There are quite a few outliers above 20 million dollars, represented by black colored circles."
      ],
      "metadata": {
        "id": "A4GP21IkWD5u"
      }
    },
    {
      "cell_type": "markdown",
      "source": [
        "---"
      ],
      "metadata": {
        "id": "KCQIfPECZtsp"
      }
    },
    {
      "cell_type": "markdown",
      "source": [
        "### **Question-1**\n",
        "\n",
        "Q. For analyzing marks given by an edtech company, we want to find the range in which the most number of students have scored.\n",
        "\n",
        "Which will be the best suited plot for this?\n",
        "\n",
        "```\n",
        "a. Pie Chart\n",
        "\n",
        "b. Histogram\n",
        "\n",
        "c. Countplot\n",
        "\n",
        "d. Line Plot\n",
        "```\n",
        "\n",
        "Answer: Histogram\n",
        "\n",
        "Explanation:\n",
        "\n",
        "A histogram provides a visual representation of the distribution of numerical data, divided into intervals called bins. It allows you to see the frequency or count of data points within each bin, making it ideal for identifying the range in which the most number of students have scored. By observing the peak(s) in the histogram, you can easily determine the range(s) with the highest frequency of scores."
      ],
      "metadata": {
        "id": "cWQzDVQa7_Wt"
      }
    },
    {
      "cell_type": "markdown",
      "source": [
        "---"
      ],
      "metadata": {
        "id": "Rx1c9LCucegO"
      }
    },
    {
      "cell_type": "markdown",
      "source": [
        "### **Question-2**\n",
        "\n",
        "Q. The telecom company \"Airtel\" wants to find the count customers across different payment modes opted by the customer.\n",
        "\n",
        "Which will be the best suited plot for this?\n",
        "\n",
        "```\n",
        "a. Pie Chart\n",
        "\n",
        "b. Countplot\n",
        "\n",
        "c. Line Plot\n",
        "\n",
        "d. Boxplot\n",
        "```\n",
        "\n",
        "Answer: Count Plot\n",
        "\n",
        "Explanation:\n",
        "\n",
        "A countplot is specifically designed for visualizing the count of observations in each category of a categorical variable. In this case, the payment modes are categorical variables, and the countplot will provide a clear representation of the number of customers using each payment mode. This makes it ideal for comparing the distribution of customers across different payment modes."
      ],
      "metadata": {
        "id": "8vA_jmDMP9Et"
      }
    },
    {
      "cell_type": "markdown",
      "source": [
        "---"
      ],
      "metadata": {
        "id": "riDLBjrKcfm0"
      }
    },
    {
      "cell_type": "markdown",
      "source": [
        "### **Question-3**\n",
        "\n",
        "Q. In the state “Haryana”, we want to find the proportion of people who smoke.\n",
        "\n",
        "Which will be the best suited plot for this?\n",
        "\n",
        "```\n",
        "a. Pie Chart\n",
        "\n",
        "b. Bar Chart\n",
        "\n",
        "c. Countplot\n",
        "\n",
        "d. Boxplot\n",
        "```\n",
        "\n",
        "Answer: Pie Chart\n",
        "\n",
        "Explanation:\n",
        "\n",
        "A pie chart is an effective way to represent proportions or percentages within a whole. In this case, the proportion of people who smoke can be represented as a fraction of the entire population of \"Haryana\". Each section of the pie chart would represent a different category, such as smokers and non-smokers, allowing for a clear visual comparison of the proportion of smokers in the population."
      ],
      "metadata": {
        "id": "3xcsu3Nh7qw6"
      }
    },
    {
      "cell_type": "markdown",
      "source": [
        "---"
      ],
      "metadata": {
        "id": "il9pIiUhBFZM"
      }
    }
  ]
}